{
 "cells": [
  {
   "cell_type": "markdown",
   "metadata": {},
   "source": [
    "# CARBAJAL Guillaume"
   ]
  },
  {
   "cell_type": "markdown",
   "metadata": {},
   "source": [
    "# <a href=\"http://www.datascience-paris-saclay.fr\">Paris Saclay Center for Data Science</a>\n",
    "# <a href=http://www.datascience-paris-saclay.fr/en/site/newsView/12>RAMP</a> on predicting the number of air passengers\n",
    "\n",
    "<i> Balázs Kégl (LAL/CNRS), Alex Gramfort (LTCI/Telecom ParisTech), Djalel Benbouzid (UPMC), Mehdi Cherti (LAL/CNRS) </i>"
   ]
  },
  {
   "cell_type": "markdown",
   "metadata": {},
   "source": [
    "# Introduction\n",
    "The data set was donated to us by an unnamed company handling flight ticket reservations. The data is thin, it contains\n",
    "* the date of departure\n",
    "* the departure airport\n",
    "* the arrival airport\n",
    "* the mean and standard deviation of the number of weeks of the reservations made before the departure date\n",
    "* a field called <code>log_PAX</code> which is related to the number of passengers (the actual number were changed for privacy reasons)\n",
    "\n",
    "The goal is to predict the <code>log_PAX</code> column. The prediction quality is measured by RMSE. \n",
    "\n",
    "The data is obviously limited, but since data and location informations are available, it can be joined to external data sets. **The challenge in this RAMP is to find good data that can be correlated to flight traffic**."
   ]
  },
  {
   "cell_type": "markdown",
   "metadata": {},
   "source": [
    "### My approach of the challenge"
   ]
  },
  {
   "cell_type": "markdown",
   "metadata": {},
   "source": [
    "I have to admit, my approach of the challenge wasn't very organized, for several reasons. This is the actual process I followed :\n",
    "1. I worked with a few different machine learnings models on the raw data, in order to have an overview of the best score I could had without preprocessing the data. I used this information as a reference score.\n",
    "2. I did the feature engineering, added the external data and implemented the new processed data with the model I already have. This step of the process was done back and forth for 2 reasons :\n",
    "    - On the one hand, the results with the new added features depended on the machine learning models I used. Some new features were relevant according to some models, but I could noticed that the relevance differed among the models.\n",
    "    - On the other hand, some ideas of external data that I had gave me new ideas of feature engineering, and vice versa. I also did feature engineering on the external data, in order to extract more information.\n",
    "3. I analyzed the feature importance with machine learning models related to regression tree, such as Extra Trees or AdaBoost."
   ]
  },
  {
   "cell_type": "markdown",
   "metadata": {},
   "source": [
    "However, in order to display my results in a clear way, I decided to present this report as the following :\n",
    "1. First of all, I will describe all the ideas of external data I had, and their respective relevances\n",
    "2. Secondly, I will explain my reflections regarding feature engineering. In particular, I will present the \"graph-of-airports\" idea.\n",
    "3. Finally, I will present the different regressors that I used, and especially the ones which worked the best."
   ]
  },
  {
   "cell_type": "markdown",
   "metadata": {},
   "source": [
    "### Evaluation of the RMSE"
   ]
  },
  {
   "cell_type": "markdown",
   "metadata": {},
   "source": [
    "In order to compare the different machine learning models, I split the dataset into a train set and a test set. I trained and evaluate each marchine learning model on the train set by doing a cross-validation. Afterwards, in order to compare the best configuration of each model between each other, I evaluated their RMSE on the hold out test set."
   ]
  },
  {
   "cell_type": "markdown",
   "metadata": {},
   "source": [
    "Using the train set, I evaluated the RMSE using a stratified 5-Fold cross-validation scheme, in order to see the variance of RMSE on different splits of the train data set. The Stratified K-Fold cross-validation is relevant because the distribution of log_PAX is the same in each fold."
   ]
  },
  {
   "cell_type": "markdown",
   "metadata": {},
   "source": [
    "In the end, my best RMSE was of 0.3580 in cross-validation, and 0.3450 with the hold out test set."
   ]
  },
  {
   "cell_type": "code",
   "execution_count": 1,
   "metadata": {
    "collapsed": false
   },
   "outputs": [],
   "source": [
    "%matplotlib inline\n",
    "import numpy as np\n",
    "import pandas as pd\n",
    "import matplotlib.pyplot as plt\n",
    "pd.set_option('display.max_columns', None)"
   ]
  },
  {
   "cell_type": "code",
   "execution_count": 2,
   "metadata": {
    "collapsed": false
   },
   "outputs": [
    {
     "name": "stderr",
     "output_type": "stream",
     "text": [
      "Exception:\n",
      "Traceback (most recent call last):\n",
      "  File \"C:\\Users\\Guillaume\\Anaconda2\\lib\\site-packages\\pip\\basecommand.py\", line 211, in main\n",
      "    status = self.run(options, args)\n",
      "  File \"C:\\Users\\Guillaume\\Anaconda2\\lib\\site-packages\\pip\\commands\\install.py\", line 282, in run\n",
      "    wheel_cache\n",
      "  File \"C:\\Users\\Guillaume\\Anaconda2\\lib\\site-packages\\pip\\basecommand.py\", line 272, in populate_requirement_set\n",
      "    wheel_cache=wheel_cache\n",
      "  File \"C:\\Users\\Guillaume\\Anaconda2\\lib\\site-packages\\pip\\req\\req_install.py\", line 213, in from_line\n",
      "    wheel_cache=wheel_cache, constraint=constraint)\n",
      "  File \"C:\\Users\\Guillaume\\Anaconda2\\lib\\site-packages\\pip\\req\\req_install.py\", line 67, in __init__\n",
      "    req = pkg_resources.Requirement.parse(req)\n",
      "  File \"C:\\Users\\Guillaume\\Anaconda2\\lib\\site-packages\\pip\\_vendor\\pkg_resources\\__init__.py\", line 2985, in parse\n",
      "    raise ValueError(\"No requirements found\", s)\n",
      "ValueError: ('No requirements found', '#')\n"
     ]
    }
   ],
   "source": [
    "!pip install -U seaborn  # if you don't have it, or pip3 for python3"
   ]
  },
  {
   "cell_type": "code",
   "execution_count": 3,
   "metadata": {
    "collapsed": false
   },
   "outputs": [
    {
     "name": "stderr",
     "output_type": "stream",
     "text": [
      "C:\\Users\\Guillaume\\Anaconda2\\lib\\site-packages\\matplotlib\\__init__.py:872: UserWarning: axes.color_cycle is deprecated and replaced with axes.prop_cycle; please use the latter.\n",
      "  warnings.warn(self.msg_depr % (key, alt_key))\n"
     ]
    }
   ],
   "source": [
    "# optional\n",
    "import seaborn as sns; sns.set()"
   ]
  },
  {
   "cell_type": "markdown",
   "metadata": {},
   "source": [
    "### Fetch the data and load it in pandas"
   ]
  },
  {
   "cell_type": "code",
   "execution_count": 3,
   "metadata": {
    "collapsed": false
   },
   "outputs": [],
   "source": [
    "data = pd.read_csv(\"data/public/public_train.csv\")"
   ]
  },
  {
   "cell_type": "markdown",
   "metadata": {},
   "source": [
    "Getting dates into numerical columns is a common operation when time series are analyzed with non-parametric predictors. The code below makes all possible choices: ordered columns for the year, month, day, weekday, week, and day in the year, and one-hot columns for year month, day, weekday, and week.\n",
    "\n",
    "The departure and arrival airports are also converted into one-hot columns. "
   ]
  },
  {
   "cell_type": "code",
   "execution_count": 24,
   "metadata": {
    "collapsed": false,
    "scrolled": false
   },
   "outputs": [
    {
     "data": {
      "text/html": [
       "<div>\n",
       "<table border=\"1\" class=\"dataframe\">\n",
       "  <thead>\n",
       "    <tr style=\"text-align: right;\">\n",
       "      <th></th>\n",
       "      <th>DateOfDeparture</th>\n",
       "      <th>Departure</th>\n",
       "      <th>Arrival</th>\n",
       "      <th>WeeksToDeparture</th>\n",
       "      <th>log_PAX</th>\n",
       "      <th>std_wtd</th>\n",
       "    </tr>\n",
       "  </thead>\n",
       "  <tbody>\n",
       "    <tr>\n",
       "      <th>0</th>\n",
       "      <td>2012-10-21</td>\n",
       "      <td>DFW</td>\n",
       "      <td>SFO</td>\n",
       "      <td>14.600000</td>\n",
       "      <td>10.757779</td>\n",
       "      <td>11.575837</td>\n",
       "    </tr>\n",
       "    <tr>\n",
       "      <th>1</th>\n",
       "      <td>2012-09-13</td>\n",
       "      <td>LAX</td>\n",
       "      <td>ATL</td>\n",
       "      <td>14.730769</td>\n",
       "      <td>11.808097</td>\n",
       "      <td>13.364304</td>\n",
       "    </tr>\n",
       "    <tr>\n",
       "      <th>2</th>\n",
       "      <td>2012-09-04</td>\n",
       "      <td>ORD</td>\n",
       "      <td>IAH</td>\n",
       "      <td>8.470588</td>\n",
       "      <td>10.865349</td>\n",
       "      <td>5.885551</td>\n",
       "    </tr>\n",
       "    <tr>\n",
       "      <th>3</th>\n",
       "      <td>2012-08-13</td>\n",
       "      <td>DEN</td>\n",
       "      <td>PHX</td>\n",
       "      <td>8.200000</td>\n",
       "      <td>10.710562</td>\n",
       "      <td>6.292853</td>\n",
       "    </tr>\n",
       "    <tr>\n",
       "      <th>4</th>\n",
       "      <td>2012-09-10</td>\n",
       "      <td>ORD</td>\n",
       "      <td>SEA</td>\n",
       "      <td>12.090909</td>\n",
       "      <td>11.498355</td>\n",
       "      <td>9.138662</td>\n",
       "    </tr>\n",
       "  </tbody>\n",
       "</table>\n",
       "</div>"
      ],
      "text/plain": [
       "  DateOfDeparture Departure Arrival  WeeksToDeparture    log_PAX    std_wtd\n",
       "0      2012-10-21       DFW     SFO         14.600000  10.757779  11.575837\n",
       "1      2012-09-13       LAX     ATL         14.730769  11.808097  13.364304\n",
       "2      2012-09-04       ORD     IAH          8.470588  10.865349   5.885551\n",
       "3      2012-08-13       DEN     PHX          8.200000  10.710562   6.292853\n",
       "4      2012-09-10       ORD     SEA         12.090909  11.498355   9.138662"
      ]
     },
     "execution_count": 24,
     "metadata": {},
     "output_type": "execute_result"
    }
   ],
   "source": [
    "data.head()"
   ]
  },
  {
   "cell_type": "code",
   "execution_count": 8,
   "metadata": {
    "collapsed": false,
    "scrolled": false
   },
   "outputs": [
    {
     "data": {
      "text/plain": [
       "<matplotlib.axes._subplots.AxesSubplot at 0xc3f0438>"
      ]
     },
     "execution_count": 8,
     "metadata": {},
     "output_type": "execute_result"
    },
    {
     "data": {
      "image/png": "[encoded data removed]",
      "text/plain": [
       "<matplotlib.figure.Figure at 0xbf909b0>"
      ]
     },
     "metadata": {},
     "output_type": "display_data"
    }
   ],
   "source": [
    "data['DateOfDeparture'].groupby(data['DateOfDeparture'].dt.year).count().plot(kind=\"bar\")"
   ]
  },
  {
   "cell_type": "markdown",
   "metadata": {},
   "source": [
    "# I. External Data"
   ]
  },
  {
   "cell_type": "code",
   "execution_count": 4,
   "metadata": {
    "collapsed": true
   },
   "outputs": [],
   "source": [
    "city_airport = pd.read_csv('external_data.csv')"
   ]
  },
  {
   "cell_type": "code",
   "execution_count": 182,
   "metadata": {
    "collapsed": false,
    "scrolled": false
   },
   "outputs": [
    {
     "data": {
      "text/html": [
       "<div>\n",
       "<table border=\"1\" class=\"dataframe\">\n",
       "  <thead>\n",
       "    <tr style=\"text-align: right;\">\n",
       "      <th></th>\n",
       "      <th>Unnamed: 0</th>\n",
       "      <th>IATA Code</th>\n",
       "      <th>AccentCity</th>\n",
       "      <th>Region</th>\n",
       "      <th>Population</th>\n",
       "      <th>Latitude</th>\n",
       "      <th>Longitude</th>\n",
       "      <th>ATL</th>\n",
       "      <th>LAX</th>\n",
       "      <th>ORD</th>\n",
       "      <th>MDW</th>\n",
       "      <th>DFW</th>\n",
       "      <th>JFK</th>\n",
       "      <th>LGA</th>\n",
       "      <th>DEN</th>\n",
       "      <th>SFO</th>\n",
       "      <th>CLT</th>\n",
       "      <th>LAS</th>\n",
       "      <th>PHX</th>\n",
       "      <th>IAH</th>\n",
       "      <th>MIA</th>\n",
       "      <th>SEA</th>\n",
       "      <th>EWR</th>\n",
       "      <th>MCO</th>\n",
       "      <th>MSP</th>\n",
       "      <th>DTW</th>\n",
       "      <th>BOS</th>\n",
       "      <th>PHL</th>\n",
       "      <th>FLL</th>\n",
       "      <th>BWI</th>\n",
       "      <th>SLC</th>\n",
       "      <th>HNL</th>\n",
       "      <th>SAN</th>\n",
       "      <th>TPA</th>\n",
       "      <th>PDX</th>\n",
       "      <th>2013</th>\n",
       "      <th>2011</th>\n",
       "    </tr>\n",
       "  </thead>\n",
       "  <tbody>\n",
       "    <tr>\n",
       "      <th>0</th>\n",
       "      <td>0</td>\n",
       "      <td>ATL</td>\n",
       "      <td>Atlanta</td>\n",
       "      <td>GA</td>\n",
       "      <td>422908</td>\n",
       "      <td>33.748889</td>\n",
       "      <td>-84.388056</td>\n",
       "      <td>0.000000</td>\n",
       "      <td>3116.974264</td>\n",
       "      <td>943.737038</td>\n",
       "      <td>943.737038</td>\n",
       "      <td>1160.678408</td>\n",
       "      <td>1201.086020</td>\n",
       "      <td>1201.086020</td>\n",
       "      <td>1950.382267</td>\n",
       "      <td>3444.324017</td>\n",
       "      <td>364.513700</td>\n",
       "      <td>2809.388496</td>\n",
       "      <td>2562.101353</td>\n",
       "      <td>1129.006536</td>\n",
       "      <td>972.368257</td>\n",
       "      <td>3511.877282</td>\n",
       "      <td>1191.298249</td>\n",
       "      <td>644.957391</td>\n",
       "      <td>1460.723692</td>\n",
       "      <td>959.858635</td>\n",
       "      <td>1507.278255</td>\n",
       "      <td>1071.608363</td>\n",
       "      <td>939.269234</td>\n",
       "      <td>928.385258</td>\n",
       "      <td>2548.640193</td>\n",
       "      <td>7241.963480</td>\n",
       "      <td>3043.548921</td>\n",
       "      <td>669.124565</td>\n",
       "      <td>3496.863810</td>\n",
       "      <td>45,308,407</td>\n",
       "      <td>44,414,121</td>\n",
       "    </tr>\n",
       "    <tr>\n",
       "      <th>1</th>\n",
       "      <td>1</td>\n",
       "      <td>LAX</td>\n",
       "      <td>Los Angeles</td>\n",
       "      <td>CA</td>\n",
       "      <td>3877129</td>\n",
       "      <td>34.052222</td>\n",
       "      <td>-118.242778</td>\n",
       "      <td>3116.974264</td>\n",
       "      <td>0.000000</td>\n",
       "      <td>2807.375190</td>\n",
       "      <td>2807.375190</td>\n",
       "      <td>1995.709892</td>\n",
       "      <td>3944.300801</td>\n",
       "      <td>3944.300801</td>\n",
       "      <td>1337.747312</td>\n",
       "      <td>559.039735</td>\n",
       "      <td>3411.155527</td>\n",
       "      <td>368.276129</td>\n",
       "      <td>575.445418</td>\n",
       "      <td>2210.746565</td>\n",
       "      <td>3764.163980</td>\n",
       "      <td>1543.612345</td>\n",
       "      <td>3930.120477</td>\n",
       "      <td>3543.152568</td>\n",
       "      <td>2452.258377</td>\n",
       "      <td>3191.831918</td>\n",
       "      <td>4178.585393</td>\n",
       "      <td>3851.954502</td>\n",
       "      <td>3753.698521</td>\n",
       "      <td>3733.355225</td>\n",
       "      <td>932.507470</td>\n",
       "      <td>4125.063975</td>\n",
       "      <td>179.456398</td>\n",
       "      <td>3465.732728</td>\n",
       "      <td>1328.490020</td>\n",
       "      <td>32,425,892</td>\n",
       "      <td>30,528,737</td>\n",
       "    </tr>\n",
       "    <tr>\n",
       "      <th>2</th>\n",
       "      <td>2</td>\n",
       "      <td>ORD</td>\n",
       "      <td>Chicago</td>\n",
       "      <td>IL</td>\n",
       "      <td>2841952</td>\n",
       "      <td>41.850000</td>\n",
       "      <td>-87.650000</td>\n",
       "      <td>943.737038</td>\n",
       "      <td>2807.375190</td>\n",
       "      <td>0.000000</td>\n",
       "      <td>0.000000</td>\n",
       "      <td>1290.771853</td>\n",
       "      <td>1148.706025</td>\n",
       "      <td>1148.706025</td>\n",
       "      <td>1478.964650</td>\n",
       "      <td>2990.475437</td>\n",
       "      <td>944.143038</td>\n",
       "      <td>2450.912897</td>\n",
       "      <td>2337.798527</td>\n",
       "      <td>1509.878566</td>\n",
       "      <td>1910.174925</td>\n",
       "      <td>2795.831053</td>\n",
       "      <td>1134.452400</td>\n",
       "      <td>1582.274816</td>\n",
       "      <td>572.156149</td>\n",
       "      <td>384.601704</td>\n",
       "      <td>1371.210778</td>\n",
       "      <td>1071.937011</td>\n",
       "      <td>1875.477285</td>\n",
       "      <td>976.091432</td>\n",
       "      <td>2026.870731</td>\n",
       "      <td>6846.817083</td>\n",
       "      <td>2789.001359</td>\n",
       "      <td>1612.858675</td>\n",
       "      <td>2830.374986</td>\n",
       "      <td>32,317,835</td>\n",
       "      <td>31,892,301</td>\n",
       "    </tr>\n",
       "    <tr>\n",
       "      <th>3</th>\n",
       "      <td>3</td>\n",
       "      <td>MDW</td>\n",
       "      <td>Chicago</td>\n",
       "      <td>IL</td>\n",
       "      <td>2841952</td>\n",
       "      <td>41.850000</td>\n",
       "      <td>-87.650000</td>\n",
       "      <td>943.737038</td>\n",
       "      <td>2807.375190</td>\n",
       "      <td>0.000000</td>\n",
       "      <td>0.000000</td>\n",
       "      <td>1290.771853</td>\n",
       "      <td>1148.706025</td>\n",
       "      <td>1148.706025</td>\n",
       "      <td>1478.964650</td>\n",
       "      <td>2990.475437</td>\n",
       "      <td>944.143038</td>\n",
       "      <td>2450.912897</td>\n",
       "      <td>2337.798527</td>\n",
       "      <td>1509.878566</td>\n",
       "      <td>1910.174925</td>\n",
       "      <td>2795.831053</td>\n",
       "      <td>1134.452400</td>\n",
       "      <td>1582.274816</td>\n",
       "      <td>572.156149</td>\n",
       "      <td>384.601704</td>\n",
       "      <td>1371.210778</td>\n",
       "      <td>1071.937011</td>\n",
       "      <td>1875.477285</td>\n",
       "      <td>976.091432</td>\n",
       "      <td>2026.870731</td>\n",
       "      <td>6846.817083</td>\n",
       "      <td>2789.001359</td>\n",
       "      <td>1612.858675</td>\n",
       "      <td>2830.374986</td>\n",
       "      <td>9,915,646</td>\n",
       "      <td>9,134,576</td>\n",
       "    </tr>\n",
       "    <tr>\n",
       "      <th>4</th>\n",
       "      <td>4</td>\n",
       "      <td>DFW</td>\n",
       "      <td>Dallas</td>\n",
       "      <td>TX</td>\n",
       "      <td>1211704</td>\n",
       "      <td>32.783333</td>\n",
       "      <td>-96.800000</td>\n",
       "      <td>1160.678408</td>\n",
       "      <td>1995.709892</td>\n",
       "      <td>1290.771853</td>\n",
       "      <td>1290.771853</td>\n",
       "      <td>0.000000</td>\n",
       "      <td>2209.209951</td>\n",
       "      <td>2209.209951</td>\n",
       "      <td>1065.180366</td>\n",
       "      <td>2387.387539</td>\n",
       "      <td>1497.044378</td>\n",
       "      <td>1723.095658</td>\n",
       "      <td>1426.098462</td>\n",
       "      <td>361.738700</td>\n",
       "      <td>1788.021499</td>\n",
       "      <td>2705.385540</td>\n",
       "      <td>2196.387358</td>\n",
       "      <td>1549.273565</td>\n",
       "      <td>1387.954374</td>\n",
       "      <td>1608.661521</td>\n",
       "      <td>2496.753023</td>\n",
       "      <td>2091.428428</td>\n",
       "      <td>1773.685431</td>\n",
       "      <td>1951.950264</td>\n",
       "      <td>1608.439978</td>\n",
       "      <td>6108.174366</td>\n",
       "      <td>1904.784958</td>\n",
       "      <td>1477.589637</td>\n",
       "      <td>2628.090956</td>\n",
       "      <td>29,038,128</td>\n",
       "      <td>27,518,358</td>\n",
       "    </tr>\n",
       "  </tbody>\n",
       "</table>\n",
       "</div>"
      ],
      "text/plain": [
       "   Unnamed: 0 IATA Code   AccentCity Region  Population   Latitude  \\\n",
       "0           0       ATL      Atlanta     GA      422908  33.748889   \n",
       "1           1       LAX  Los Angeles     CA     3877129  34.052222   \n",
       "2           2       ORD      Chicago     IL     2841952  41.850000   \n",
       "3           3       MDW      Chicago     IL     2841952  41.850000   \n",
       "4           4       DFW       Dallas     TX     1211704  32.783333   \n",
       "\n",
       "    Longitude          ATL          LAX          ORD          MDW  \\\n",
       "0  -84.388056     0.000000  3116.974264   943.737038   943.737038   \n",
       "1 -118.242778  3116.974264     0.000000  2807.375190  2807.375190   \n",
       "2  -87.650000   943.737038  2807.375190     0.000000     0.000000   \n",
       "3  -87.650000   943.737038  2807.375190     0.000000     0.000000   \n",
       "4  -96.800000  1160.678408  1995.709892  1290.771853  1290.771853   \n",
       "\n",
       "           DFW          JFK          LGA          DEN          SFO  \\\n",
       "0  1160.678408  1201.086020  1201.086020  1950.382267  3444.324017   \n",
       "1  1995.709892  3944.300801  3944.300801  1337.747312   559.039735   \n",
       "2  1290.771853  1148.706025  1148.706025  1478.964650  2990.475437   \n",
       "3  1290.771853  1148.706025  1148.706025  1478.964650  2990.475437   \n",
       "4     0.000000  2209.209951  2209.209951  1065.180366  2387.387539   \n",
       "\n",
       "           CLT          LAS          PHX          IAH          MIA  \\\n",
       "0   364.513700  2809.388496  2562.101353  1129.006536   972.368257   \n",
       "1  3411.155527   368.276129   575.445418  2210.746565  3764.163980   \n",
       "2   944.143038  2450.912897  2337.798527  1509.878566  1910.174925   \n",
       "3   944.143038  2450.912897  2337.798527  1509.878566  1910.174925   \n",
       "4  1497.044378  1723.095658  1426.098462   361.738700  1788.021499   \n",
       "\n",
       "           SEA          EWR          MCO          MSP          DTW  \\\n",
       "0  3511.877282  1191.298249   644.957391  1460.723692   959.858635   \n",
       "1  1543.612345  3930.120477  3543.152568  2452.258377  3191.831918   \n",
       "2  2795.831053  1134.452400  1582.274816   572.156149   384.601704   \n",
       "3  2795.831053  1134.452400  1582.274816   572.156149   384.601704   \n",
       "4  2705.385540  2196.387358  1549.273565  1387.954374  1608.661521   \n",
       "\n",
       "           BOS          PHL          FLL          BWI          SLC  \\\n",
       "0  1507.278255  1071.608363   939.269234   928.385258  2548.640193   \n",
       "1  4178.585393  3851.954502  3753.698521  3733.355225   932.507470   \n",
       "2  1371.210778  1071.937011  1875.477285   976.091432  2026.870731   \n",
       "3  1371.210778  1071.937011  1875.477285   976.091432  2026.870731   \n",
       "4  2496.753023  2091.428428  1773.685431  1951.950264  1608.439978   \n",
       "\n",
       "           HNL          SAN          TPA          PDX        2013        2011  \n",
       "0  7241.963480  3043.548921   669.124565  3496.863810  45,308,407  44,414,121  \n",
       "1  4125.063975   179.456398  3465.732728  1328.490020  32,425,892  30,528,737  \n",
       "2  6846.817083  2789.001359  1612.858675  2830.374986  32,317,835  31,892,301  \n",
       "3  6846.817083  2789.001359  1612.858675  2830.374986   9,915,646   9,134,576  \n",
       "4  6108.174366  1904.784958  1477.589637  2628.090956  29,038,128  27,518,358  "
      ]
     },
     "execution_count": 182,
     "metadata": {},
     "output_type": "execute_result"
    }
   ],
   "source": [
    "city_airport.head()"
   ]
  },
  {
   "cell_type": "markdown",
   "metadata": {},
   "source": [
    "The above-mentioned dataframe shows all of the external data that I chose to keep in my final model. I basically focused on retrieving external information about each airport (e.g. total passenger boardings in a year, city, distance)"
   ]
  },
  {
   "cell_type": "markdown",
   "metadata": {
    "collapsed": true
   },
   "source": [
    "## I.a. Total passenger boardings of airport"
   ]
  },
  {
   "cell_type": "markdown",
   "metadata": {},
   "source": [
    "My first idea was that the total number of passenger boardings of an airport in a year was one feature that could influence the prediction of the number of air passengers : for instance, an airport with a high number of departures and arrivals in a year would tend to have flights with high log_PAX, because it is a hub."
   ]
  },
  {
   "cell_type": "markdown",
   "metadata": {},
   "source": [
    "I retrieved the data of 2011, 2012 and 2013. However, I only kept the data of 2011 and 2013 because there was an outlier among the data of 2012."
   ]
  },
  {
   "cell_type": "code",
   "execution_count": 6,
   "metadata": {
    "collapsed": false
   },
   "outputs": [],
   "source": [
    "affluence_2011=[]\n",
    "for j in data['Departure'].unique():\n",
    "    for i, item in enumerate(city_airport['IATA Code']):\n",
    "        if j==item:\n",
    "            affluence_2011.append((item, int(city_airport['2011'][i].replace(',',''))))\n",
    "affluence_2011 = dict(affluence_2011)"
   ]
  },
  {
   "cell_type": "code",
   "execution_count": 7,
   "metadata": {
    "collapsed": false
   },
   "outputs": [],
   "source": [
    "affluence_2013=[]\n",
    "for j in data['Departure'].unique():\n",
    "    for i, item in enumerate(city_airport['IATA Code']):\n",
    "        if j==item:\n",
    "            affluence_2013.append((item, int(city_airport['2013'][i].replace(',',''))))\n",
    "affluence_2013 = dict(affluence_2013)"
   ]
  },
  {
   "cell_type": "code",
   "execution_count": 178,
   "metadata": {
    "collapsed": false,
    "scrolled": true
   },
   "outputs": [
    {
     "data": {
      "text/html": [
       "<div>\n",
       "<table border=\"1\" class=\"dataframe\">\n",
       "  <thead>\n",
       "    <tr style=\"text-align: right;\">\n",
       "      <th></th>\n",
       "      <th>IATA Code</th>\n",
       "      <th>2013</th>\n",
       "      <th>2011</th>\n",
       "    </tr>\n",
       "  </thead>\n",
       "  <tbody>\n",
       "    <tr>\n",
       "      <th>0</th>\n",
       "      <td>ATL</td>\n",
       "      <td>45,308,407</td>\n",
       "      <td>44,414,121</td>\n",
       "    </tr>\n",
       "    <tr>\n",
       "      <th>1</th>\n",
       "      <td>LAX</td>\n",
       "      <td>32,425,892</td>\n",
       "      <td>30,528,737</td>\n",
       "    </tr>\n",
       "    <tr>\n",
       "      <th>2</th>\n",
       "      <td>ORD</td>\n",
       "      <td>32,317,835</td>\n",
       "      <td>31,892,301</td>\n",
       "    </tr>\n",
       "    <tr>\n",
       "      <th>3</th>\n",
       "      <td>DFW</td>\n",
       "      <td>29,038,128</td>\n",
       "      <td>27,518,358</td>\n",
       "    </tr>\n",
       "    <tr>\n",
       "      <th>4</th>\n",
       "      <td>JFK</td>\n",
       "      <td>25,036,358</td>\n",
       "      <td>23,664,830</td>\n",
       "    </tr>\n",
       "  </tbody>\n",
       "</table>\n",
       "</div>"
      ],
      "text/plain": [
       "  IATA Code        2013        2011\n",
       "0       ATL  45,308,407  44,414,121\n",
       "1       LAX  32,425,892  30,528,737\n",
       "2       ORD  32,317,835  31,892,301\n",
       "3       DFW  29,038,128  27,518,358\n",
       "4       JFK  25,036,358  23,664,830"
      ]
     },
     "execution_count": 178,
     "metadata": {},
     "output_type": "execute_result"
    }
   ],
   "source": [
    "city_airport[['IATA Code','2013', '2011']].head()"
   ]
  },
  {
   "cell_type": "markdown",
   "metadata": {},
   "source": [
    "For each flight, I added the total number of passenger boardings of both the departure and arrival aiports, in order to characterize better each particular aerial line (ex : all aerial lines BOS - SFO within March 2012)."
   ]
  },
  {
   "cell_type": "code",
   "execution_count": 9,
   "metadata": {
    "collapsed": false
   },
   "outputs": [
    {
     "data": {
      "image/png": "[encoded data removed]",
      "text/plain": [
       "<IPython.core.display.Image object>"
      ]
     },
     "execution_count": 9,
     "metadata": {},
     "output_type": "execute_result"
    }
   ],
   "source": [
    "from IPython.display import Image\n",
    "Image(\"affluence score.png\")"
   ]
  },
  {
   "cell_type": "markdown",
   "metadata": {},
   "source": [
    "As above mentioned in the chart, it was one of most important features of the Random Forest."
   ]
  },
  {
   "cell_type": "markdown",
   "metadata": {},
   "source": [
    "## I.b. City name and City population"
   ]
  },
  {
   "cell_type": "markdown",
   "metadata": {},
   "source": [
    "I noticed that some airports were in the same city (for instance, New-York), so I decided to create dummy variables to characterize this statement"
   ]
  },
  {
   "cell_type": "code",
   "execution_count": 5,
   "metadata": {
    "collapsed": false
   },
   "outputs": [
    {
     "data": {
      "text/html": [
       "<div>\n",
       "<table border=\"1\" class=\"dataframe\">\n",
       "  <thead>\n",
       "    <tr style=\"text-align: right;\">\n",
       "      <th></th>\n",
       "      <th>IATA Code</th>\n",
       "      <th>AccentCity</th>\n",
       "    </tr>\n",
       "  </thead>\n",
       "  <tbody>\n",
       "    <tr>\n",
       "      <th>0</th>\n",
       "      <td>ATL</td>\n",
       "      <td>Atlanta</td>\n",
       "    </tr>\n",
       "    <tr>\n",
       "      <th>1</th>\n",
       "      <td>LAX</td>\n",
       "      <td>Los Angeles</td>\n",
       "    </tr>\n",
       "    <tr>\n",
       "      <th>2</th>\n",
       "      <td>ORD</td>\n",
       "      <td>Chicago</td>\n",
       "    </tr>\n",
       "    <tr>\n",
       "      <th>3</th>\n",
       "      <td>MDW</td>\n",
       "      <td>Chicago</td>\n",
       "    </tr>\n",
       "    <tr>\n",
       "      <th>4</th>\n",
       "      <td>DFW</td>\n",
       "      <td>Dallas</td>\n",
       "    </tr>\n",
       "  </tbody>\n",
       "</table>\n",
       "</div>"
      ],
      "text/plain": [
       "  IATA Code   AccentCity\n",
       "0       ATL      Atlanta\n",
       "1       LAX  Los Angeles\n",
       "2       ORD      Chicago\n",
       "3       MDW      Chicago\n",
       "4       DFW       Dallas"
      ]
     },
     "execution_count": 5,
     "metadata": {},
     "output_type": "execute_result"
    }
   ],
   "source": [
    "city_airport[['IATA Code','AccentCity']].head()"
   ]
  },
  {
   "cell_type": "code",
   "execution_count": 8,
   "metadata": {
    "collapsed": false
   },
   "outputs": [],
   "source": [
    "city_dep=[]\n",
    "for j in data['Departure']:\n",
    "    for i, item in enumerate(city_airport['IATA Code']):\n",
    "        if j==item:\n",
    "            city_dep.append(city_airport['AccentCity'][i])"
   ]
  },
  {
   "cell_type": "code",
   "execution_count": 9,
   "metadata": {
    "collapsed": true
   },
   "outputs": [],
   "source": [
    "city_arr=[]\n",
    "for j in data['Arrival']:\n",
    "    for i, item in enumerate(city_airport['IATA Code']):\n",
    "        if j==item:\n",
    "            city_arr.append(city_airport['AccentCity'][i])"
   ]
  },
  {
   "cell_type": "markdown",
   "metadata": {},
   "source": [
    "This information proved to be relevant, especially when it was combined with other features, such as the total number of flight departures and arrivals in a city."
   ]
  },
  {
   "cell_type": "markdown",
   "metadata": {},
   "source": [
    "I also tried to include the population of each city as a feature. The hypothesis was that a city with a large number of inhabitants could lead to more passengers for an aerial line."
   ]
  },
  {
   "cell_type": "code",
   "execution_count": 6,
   "metadata": {
    "collapsed": false
   },
   "outputs": [
    {
     "data": {
      "text/html": [
       "<div>\n",
       "<table border=\"1\" class=\"dataframe\">\n",
       "  <thead>\n",
       "    <tr style=\"text-align: right;\">\n",
       "      <th></th>\n",
       "      <th>IATA Code</th>\n",
       "      <th>AccentCity</th>\n",
       "      <th>Population</th>\n",
       "    </tr>\n",
       "  </thead>\n",
       "  <tbody>\n",
       "    <tr>\n",
       "      <th>0</th>\n",
       "      <td>ATL</td>\n",
       "      <td>Atlanta</td>\n",
       "      <td>422908</td>\n",
       "    </tr>\n",
       "    <tr>\n",
       "      <th>1</th>\n",
       "      <td>LAX</td>\n",
       "      <td>Los Angeles</td>\n",
       "      <td>3877129</td>\n",
       "    </tr>\n",
       "    <tr>\n",
       "      <th>2</th>\n",
       "      <td>ORD</td>\n",
       "      <td>Chicago</td>\n",
       "      <td>2841952</td>\n",
       "    </tr>\n",
       "    <tr>\n",
       "      <th>3</th>\n",
       "      <td>MDW</td>\n",
       "      <td>Chicago</td>\n",
       "      <td>2841952</td>\n",
       "    </tr>\n",
       "    <tr>\n",
       "      <th>4</th>\n",
       "      <td>DFW</td>\n",
       "      <td>Dallas</td>\n",
       "      <td>1211704</td>\n",
       "    </tr>\n",
       "  </tbody>\n",
       "</table>\n",
       "</div>"
      ],
      "text/plain": [
       "  IATA Code   AccentCity  Population\n",
       "0       ATL      Atlanta      422908\n",
       "1       LAX  Los Angeles     3877129\n",
       "2       ORD      Chicago     2841952\n",
       "3       MDW      Chicago     2841952\n",
       "4       DFW       Dallas     1211704"
      ]
     },
     "execution_count": 6,
     "metadata": {},
     "output_type": "execute_result"
    }
   ],
   "source": [
    "city_airport[['IATA Code','AccentCity','Population',]].head()"
   ]
  },
  {
   "cell_type": "code",
   "execution_count": 22,
   "metadata": {
    "collapsed": true
   },
   "outputs": [],
   "source": [
    "city_pop_dep=[]\n",
    "for j in data['Departure']:\n",
    "    for i, item in enumerate(city_airport['IATA Code']):\n",
    "        if j==item:\n",
    "            city_pop_dep.append(city_airport['Population'][i])\n",
    "city_pop_arr=[]\n",
    "for j in data['Arrival']:\n",
    "    for i, item in enumerate(city_airport['IATA Code']):\n",
    "        if j==item:\n",
    "            city_pop_arr.append(city_airport['Population'][i])"
   ]
  },
  {
   "cell_type": "markdown",
   "metadata": {},
   "source": [
    "However it led to poor results of RMSE. Therefore I decided not to take this feature into account."
   ]
  },
  {
   "cell_type": "markdown",
   "metadata": {},
   "source": [
    "## I.c. Distance between airports"
   ]
  },
  {
   "cell_type": "markdown",
   "metadata": {},
   "source": [
    "Another feature that I thought could be important was the distance between airports. The idea was that for a long distance flight, there were more passengers because they linked 2 majors cities of the US. Therefore, with the geolocation of the airports and the package Geopy, I computed the distance matrix between airports. "
   ]
  },
  {
   "cell_type": "code",
   "execution_count": 31,
   "metadata": {
    "collapsed": false
   },
   "outputs": [
    {
     "data": {
      "text/html": [
       "<div>\n",
       "<table border=\"1\" class=\"dataframe\">\n",
       "  <thead>\n",
       "    <tr style=\"text-align: right;\">\n",
       "      <th></th>\n",
       "      <th>ATL</th>\n",
       "      <th>LAX</th>\n",
       "      <th>ORD</th>\n",
       "      <th>MDW</th>\n",
       "      <th>DFW</th>\n",
       "      <th>JFK</th>\n",
       "      <th>LGA</th>\n",
       "      <th>DEN</th>\n",
       "    </tr>\n",
       "  </thead>\n",
       "  <tbody>\n",
       "    <tr>\n",
       "      <th>0</th>\n",
       "      <td>0.000000</td>\n",
       "      <td>3116.974264</td>\n",
       "      <td>943.737038</td>\n",
       "      <td>943.737038</td>\n",
       "      <td>1160.678408</td>\n",
       "      <td>1201.086020</td>\n",
       "      <td>1201.086020</td>\n",
       "      <td>1950.382267</td>\n",
       "    </tr>\n",
       "    <tr>\n",
       "      <th>1</th>\n",
       "      <td>3116.974264</td>\n",
       "      <td>0.000000</td>\n",
       "      <td>2807.375190</td>\n",
       "      <td>2807.375190</td>\n",
       "      <td>1995.709892</td>\n",
       "      <td>3944.300801</td>\n",
       "      <td>3944.300801</td>\n",
       "      <td>1337.747312</td>\n",
       "    </tr>\n",
       "    <tr>\n",
       "      <th>2</th>\n",
       "      <td>943.737038</td>\n",
       "      <td>2807.375190</td>\n",
       "      <td>0.000000</td>\n",
       "      <td>0.000000</td>\n",
       "      <td>1290.771853</td>\n",
       "      <td>1148.706025</td>\n",
       "      <td>1148.706025</td>\n",
       "      <td>1478.964650</td>\n",
       "    </tr>\n",
       "    <tr>\n",
       "      <th>3</th>\n",
       "      <td>943.737038</td>\n",
       "      <td>2807.375190</td>\n",
       "      <td>0.000000</td>\n",
       "      <td>0.000000</td>\n",
       "      <td>1290.771853</td>\n",
       "      <td>1148.706025</td>\n",
       "      <td>1148.706025</td>\n",
       "      <td>1478.964650</td>\n",
       "    </tr>\n",
       "    <tr>\n",
       "      <th>4</th>\n",
       "      <td>1160.678408</td>\n",
       "      <td>1995.709892</td>\n",
       "      <td>1290.771853</td>\n",
       "      <td>1290.771853</td>\n",
       "      <td>0.000000</td>\n",
       "      <td>2209.209951</td>\n",
       "      <td>2209.209951</td>\n",
       "      <td>1065.180366</td>\n",
       "    </tr>\n",
       "  </tbody>\n",
       "</table>\n",
       "</div>"
      ],
      "text/plain": [
       "           ATL          LAX          ORD          MDW          DFW  \\\n",
       "0     0.000000  3116.974264   943.737038   943.737038  1160.678408   \n",
       "1  3116.974264     0.000000  2807.375190  2807.375190  1995.709892   \n",
       "2   943.737038  2807.375190     0.000000     0.000000  1290.771853   \n",
       "3   943.737038  2807.375190     0.000000     0.000000  1290.771853   \n",
       "4  1160.678408  1995.709892  1290.771853  1290.771853     0.000000   \n",
       "\n",
       "           JFK          LGA          DEN  \n",
       "0  1201.086020  1201.086020  1950.382267  \n",
       "1  3944.300801  3944.300801  1337.747312  \n",
       "2  1148.706025  1148.706025  1478.964650  \n",
       "3  1148.706025  1148.706025  1478.964650  \n",
       "4  2209.209951  2209.209951  1065.180366  "
      ]
     },
     "execution_count": 31,
     "metadata": {},
     "output_type": "execute_result"
    }
   ],
   "source": [
    "city_airport[city_airport.columns[8:16]].head()"
   ]
  },
  {
   "cell_type": "code",
   "execution_count": 10,
   "metadata": {
    "collapsed": false
   },
   "outputs": [],
   "source": [
    "distance=[]\n",
    "for i, j in zip(data['Departure'], data['Arrival']):\n",
    "    k = city_airport[city_airport['IATA Code'] == i].index.tolist()[0]\n",
    "    distance.append(city_airport[j][k])"
   ]
  },
  {
   "cell_type": "markdown",
   "metadata": {},
   "source": [
    "It led to a substantial decrease of the RMSE : it diminished by 0.01 on average for each regressor that I used."
   ]
  },
  {
   "cell_type": "code",
   "execution_count": 32,
   "metadata": {
    "collapsed": false
   },
   "outputs": [
    {
     "data": {
      "image/png": "[encoded data removed]",
      "text/plain": [
       "<IPython.core.display.Image object>"
      ]
     },
     "execution_count": 32,
     "metadata": {},
     "output_type": "execute_result"
    }
   ],
   "source": [
    "Image(\"distance airport.png\")"
   ]
  },
  {
   "cell_type": "markdown",
   "metadata": {},
   "source": [
    "As mentioned above for the feature importances with a Random Forest regressor, the distance between airports was one of the best features."
   ]
  },
  {
   "cell_type": "markdown",
   "metadata": {},
   "source": [
    "## I.d. Oil Prices"
   ]
  },
  {
   "cell_type": "markdown",
   "metadata": {},
   "source": [
    "Finally, I also thought that oil prices could have an influence on the number of passengers, because higher oil prices could lead to more expensive airplane tickets, and thereby fewer people in the plane."
   ]
  },
  {
   "cell_type": "markdown",
   "metadata": {},
   "source": [
    "I created 2 features : one with weekly average price of oil for a given year, and one with the weekly average price of oil of the previous year."
   ]
  },
  {
   "cell_type": "markdown",
   "metadata": {},
   "source": [
    "However, it led to poor results, so I decided not to keep them in my model."
   ]
  },
  {
   "cell_type": "code",
   "execution_count": 98,
   "metadata": {
    "collapsed": false
   },
   "outputs": [],
   "source": [
    "oil_prices = pd.read_csv('Oil_prices_year.csv')"
   ]
  },
  {
   "cell_type": "code",
   "execution_count": 100,
   "metadata": {
    "collapsed": false
   },
   "outputs": [],
   "source": [
    "oil_prices = dict(zip(oil_prices['year_week'], oil_prices['VALUE']))"
   ]
  },
  {
   "cell_type": "code",
   "execution_count": 101,
   "metadata": {
    "collapsed": false
   },
   "outputs": [],
   "source": [
    "df = data.copy()\n",
    "df['DateOfDeparture'] = pd.to_datetime(df['DateOfDeparture'])\n",
    "df['week'] = df['DateOfDeparture'].dt.week.astype(str)\n",
    "df['year'] = df['DateOfDeparture'].dt.year.astype(str)\n",
    "df['year_week'] = df[df.columns[[7,6]]].apply(lambda x: '-'.join(x),axis=1)\n",
    "df['oil_prices'] = df['year_week'].map(oil_prices)"
   ]
  },
  {
   "cell_type": "code",
   "execution_count": 31,
   "metadata": {
    "collapsed": true
   },
   "outputs": [],
   "source": [
    "def set_oil_prices(data):\n",
    "    df = data.copy()\n",
    "    df['DateOfDeparture'] = pd.to_datetime(df['DateOfDeparture'])\n",
    "    df['week'] = df['DateOfDeparture'].dt.week.astype(str)\n",
    "    df['year'] = df['DateOfDeparture'].dt.year.astype(str)\n",
    "    df['year_week'] = df[df.columns[[6,7]]].apply(lambda x: '-'.join(x),axis=1)\n",
    "    df['oil_prices'] = df['year_week'].map(oil_prices)"
   ]
  },
  {
   "cell_type": "markdown",
   "metadata": {},
   "source": [
    "# II. Preprocessing for prediction"
   ]
  },
  {
   "cell_type": "markdown",
   "metadata": {},
   "source": [
    "# What I did"
   ]
  },
  {
   "cell_type": "markdown",
   "metadata": {},
   "source": [
    "In order to categorize each flight (departure, arrival), I thought it would be relevant to look for the properties of each airport, and then mix the properties of the airport of departure with the properties of the airport of arrival."
   ]
  },
  {
   "cell_type": "markdown",
   "metadata": {},
   "source": [
    "For example, for a given flight, I took :\n",
    "- the total number of departure in the airport of departure in a month\n",
    "- the total number of arrival in the airport of arrival in a month"
   ]
  },
  {
   "cell_type": "markdown",
   "metadata": {},
   "source": [
    "Finally, I did a 3rd feature by doing a sum with these 2 features"
   ]
  },
  {
   "cell_type": "markdown",
   "metadata": {},
   "source": [
    "## II.a. Count the number of departure / arrival by airport"
   ]
  },
  {
   "cell_type": "markdown",
   "metadata": {},
   "source": [
    "Regarding external data, the idea of total number of passenger boardings gave me the idea to visualize the date of flight for a given aerial line within a year. For example, I observed the following distributionn for the aerial line LAX - ATL :"
   ]
  },
  {
   "cell_type": "code",
   "execution_count": 63,
   "metadata": {
    "collapsed": false,
    "scrolled": true
   },
   "outputs": [
    {
     "data": {
      "image/png": "[encoded data removed]",
      "text/plain": [
       "<matplotlib.figure.Figure at 0x249298d0>"
      ]
     },
     "metadata": {},
     "output_type": "display_data"
    }
   ],
   "source": [
    "plot_ndays('LAX','ATL')"
   ]
  },
  {
   "cell_type": "markdown",
   "metadata": {},
   "source": [
    "One can observe that some flight dates are very close, and that the sparsity is high for other dates."
   ]
  },
  {
   "cell_type": "markdown",
   "metadata": {},
   "source": [
    "As a result, I had the idea of counting the number of flights for a given aerial for each week. However it led to poor results. Nevertheless, when I tried this idea for each month, it provided an important feature."
   ]
  },
  {
   "cell_type": "markdown",
   "metadata": {},
   "source": [
    "Therefore, for each departure airport, I counted the total number of departures from that airport, within a month."
   ]
  },
  {
   "cell_type": "code",
   "execution_count": 11,
   "metadata": {
    "collapsed": true
   },
   "outputs": [],
   "source": [
    "def current_month_dep(data):\n",
    "    df = data.copy()\n",
    "    df['DateOfDeparture'] = pd.to_datetime(df['DateOfDeparture'])\n",
    "    df['month'] = df['DateOfDeparture'].dt.month.astype(str)\n",
    "    df['year'] = df['DateOfDeparture'].dt.year.astype(str)\n",
    "    df['year_month_dep'] = df[['Departure','month','year']].apply(lambda x: '-'.join(x),axis=1)\n",
    "    n_month_year_dep = dict(df['Departure'].groupby(df['year_month_dep']).count())\n",
    "    df['n_year_month_dep'] = df['year_month_dep'].map(n_month_year_dep)\n",
    "    del df['year_month_dep']\n",
    "    return df"
   ]
  },
  {
   "cell_type": "code",
   "execution_count": 12,
   "metadata": {
    "collapsed": false
   },
   "outputs": [],
   "source": [
    "df_6 = current_month_dep(data)"
   ]
  },
  {
   "cell_type": "code",
   "execution_count": 7,
   "metadata": {
    "collapsed": false,
    "scrolled": true
   },
   "outputs": [
    {
     "data": {
      "text/html": [
       "<div>\n",
       "<table border=\"1\" class=\"dataframe\">\n",
       "  <thead>\n",
       "    <tr style=\"text-align: right;\">\n",
       "      <th></th>\n",
       "      <th>DateOfDeparture</th>\n",
       "      <th>Departure</th>\n",
       "      <th>Arrival</th>\n",
       "      <th>WeeksToDeparture</th>\n",
       "      <th>log_PAX</th>\n",
       "      <th>std_wtd</th>\n",
       "      <th>month</th>\n",
       "      <th>year</th>\n",
       "      <th>n_year_month_dep</th>\n",
       "    </tr>\n",
       "  </thead>\n",
       "  <tbody>\n",
       "    <tr>\n",
       "      <th>0</th>\n",
       "      <td>2012-10-21</td>\n",
       "      <td>DFW</td>\n",
       "      <td>SFO</td>\n",
       "      <td>14.600000</td>\n",
       "      <td>10.757779</td>\n",
       "      <td>11.575837</td>\n",
       "      <td>10</td>\n",
       "      <td>2012</td>\n",
       "      <td>49</td>\n",
       "    </tr>\n",
       "    <tr>\n",
       "      <th>1</th>\n",
       "      <td>2012-09-13</td>\n",
       "      <td>LAX</td>\n",
       "      <td>ATL</td>\n",
       "      <td>14.730769</td>\n",
       "      <td>11.808097</td>\n",
       "      <td>13.364304</td>\n",
       "      <td>9</td>\n",
       "      <td>2012</td>\n",
       "      <td>58</td>\n",
       "    </tr>\n",
       "    <tr>\n",
       "      <th>2</th>\n",
       "      <td>2012-09-04</td>\n",
       "      <td>ORD</td>\n",
       "      <td>IAH</td>\n",
       "      <td>8.470588</td>\n",
       "      <td>10.865349</td>\n",
       "      <td>5.885551</td>\n",
       "      <td>9</td>\n",
       "      <td>2012</td>\n",
       "      <td>72</td>\n",
       "    </tr>\n",
       "    <tr>\n",
       "      <th>3</th>\n",
       "      <td>2012-08-13</td>\n",
       "      <td>DEN</td>\n",
       "      <td>PHX</td>\n",
       "      <td>8.200000</td>\n",
       "      <td>10.710562</td>\n",
       "      <td>6.292853</td>\n",
       "      <td>8</td>\n",
       "      <td>2012</td>\n",
       "      <td>43</td>\n",
       "    </tr>\n",
       "    <tr>\n",
       "      <th>4</th>\n",
       "      <td>2012-09-10</td>\n",
       "      <td>ORD</td>\n",
       "      <td>SEA</td>\n",
       "      <td>12.090909</td>\n",
       "      <td>11.498355</td>\n",
       "      <td>9.138662</td>\n",
       "      <td>9</td>\n",
       "      <td>2012</td>\n",
       "      <td>72</td>\n",
       "    </tr>\n",
       "  </tbody>\n",
       "</table>\n",
       "</div>"
      ],
      "text/plain": [
       "  DateOfDeparture Departure Arrival  WeeksToDeparture    log_PAX    std_wtd  \\\n",
       "0      2012-10-21       DFW     SFO         14.600000  10.757779  11.575837   \n",
       "1      2012-09-13       LAX     ATL         14.730769  11.808097  13.364304   \n",
       "2      2012-09-04       ORD     IAH          8.470588  10.865349   5.885551   \n",
       "3      2012-08-13       DEN     PHX          8.200000  10.710562   6.292853   \n",
       "4      2012-09-10       ORD     SEA         12.090909  11.498355   9.138662   \n",
       "\n",
       "  month  year  n_year_month_dep  \n",
       "0    10  2012                49  \n",
       "1     9  2012                58  \n",
       "2     9  2012                72  \n",
       "3     8  2012                43  \n",
       "4     9  2012                72  "
      ]
     },
     "execution_count": 7,
     "metadata": {},
     "output_type": "execute_result"
    }
   ],
   "source": [
    "df_6.head()"
   ]
  },
  {
   "cell_type": "markdown",
   "metadata": {},
   "source": [
    "I also did the same for each arrival airport."
   ]
  },
  {
   "cell_type": "code",
   "execution_count": 13,
   "metadata": {
    "collapsed": false
   },
   "outputs": [],
   "source": [
    "def current_month_arr(data):\n",
    "    df = data.copy()\n",
    "    df['DateOfDeparture'] = pd.to_datetime(df['DateOfDeparture'])\n",
    "    df['month'] = df['DateOfDeparture'].dt.month.astype(str)\n",
    "    df['year'] = df['DateOfDeparture'].dt.year.astype(str)\n",
    "    df['year_month_arr'] = df[df.columns[[2,6,7]]].apply(lambda x: '-'.join(x),axis=1)\n",
    "    n_month_year_arr = dict(df['Arrival'].groupby(df['year_month_arr']).count())\n",
    "    df['n_year_month_arr'] = df['year_month_arr'].map(n_month_year_arr)\n",
    "    del df['year_month_arr']\n",
    "    return df"
   ]
  },
  {
   "cell_type": "code",
   "execution_count": 14,
   "metadata": {
    "collapsed": true
   },
   "outputs": [],
   "source": [
    "df_7 = current_month_arr(data)"
   ]
  },
  {
   "cell_type": "code",
   "execution_count": 10,
   "metadata": {
    "collapsed": false,
    "scrolled": true
   },
   "outputs": [
    {
     "data": {
      "text/html": [
       "<div>\n",
       "<table border=\"1\" class=\"dataframe\">\n",
       "  <thead>\n",
       "    <tr style=\"text-align: right;\">\n",
       "      <th></th>\n",
       "      <th>DateOfDeparture</th>\n",
       "      <th>Departure</th>\n",
       "      <th>Arrival</th>\n",
       "      <th>WeeksToDeparture</th>\n",
       "      <th>log_PAX</th>\n",
       "      <th>std_wtd</th>\n",
       "      <th>month</th>\n",
       "      <th>year</th>\n",
       "      <th>n_year_month_arr</th>\n",
       "    </tr>\n",
       "  </thead>\n",
       "  <tbody>\n",
       "    <tr>\n",
       "      <th>0</th>\n",
       "      <td>2012-10-21</td>\n",
       "      <td>DFW</td>\n",
       "      <td>SFO</td>\n",
       "      <td>14.600000</td>\n",
       "      <td>10.757779</td>\n",
       "      <td>11.575837</td>\n",
       "      <td>10</td>\n",
       "      <td>2012</td>\n",
       "      <td>47</td>\n",
       "    </tr>\n",
       "    <tr>\n",
       "      <th>1</th>\n",
       "      <td>2012-09-13</td>\n",
       "      <td>LAX</td>\n",
       "      <td>ATL</td>\n",
       "      <td>14.730769</td>\n",
       "      <td>11.808097</td>\n",
       "      <td>13.364304</td>\n",
       "      <td>9</td>\n",
       "      <td>2012</td>\n",
       "      <td>68</td>\n",
       "    </tr>\n",
       "    <tr>\n",
       "      <th>2</th>\n",
       "      <td>2012-09-04</td>\n",
       "      <td>ORD</td>\n",
       "      <td>IAH</td>\n",
       "      <td>8.470588</td>\n",
       "      <td>10.865349</td>\n",
       "      <td>5.885551</td>\n",
       "      <td>9</td>\n",
       "      <td>2012</td>\n",
       "      <td>8</td>\n",
       "    </tr>\n",
       "    <tr>\n",
       "      <th>3</th>\n",
       "      <td>2012-08-13</td>\n",
       "      <td>DEN</td>\n",
       "      <td>PHX</td>\n",
       "      <td>8.200000</td>\n",
       "      <td>10.710562</td>\n",
       "      <td>6.292853</td>\n",
       "      <td>8</td>\n",
       "      <td>2012</td>\n",
       "      <td>12</td>\n",
       "    </tr>\n",
       "    <tr>\n",
       "      <th>4</th>\n",
       "      <td>2012-09-10</td>\n",
       "      <td>ORD</td>\n",
       "      <td>SEA</td>\n",
       "      <td>12.090909</td>\n",
       "      <td>11.498355</td>\n",
       "      <td>9.138662</td>\n",
       "      <td>9</td>\n",
       "      <td>2012</td>\n",
       "      <td>25</td>\n",
       "    </tr>\n",
       "  </tbody>\n",
       "</table>\n",
       "</div>"
      ],
      "text/plain": [
       "  DateOfDeparture Departure Arrival  WeeksToDeparture    log_PAX    std_wtd  \\\n",
       "0      2012-10-21       DFW     SFO         14.600000  10.757779  11.575837   \n",
       "1      2012-09-13       LAX     ATL         14.730769  11.808097  13.364304   \n",
       "2      2012-09-04       ORD     IAH          8.470588  10.865349   5.885551   \n",
       "3      2012-08-13       DEN     PHX          8.200000  10.710562   6.292853   \n",
       "4      2012-09-10       ORD     SEA         12.090909  11.498355   9.138662   \n",
       "\n",
       "  month  year  n_year_month_arr  \n",
       "0    10  2012                47  \n",
       "1     9  2012                68  \n",
       "2     9  2012                 8  \n",
       "3     8  2012                12  \n",
       "4     9  2012                25  "
      ]
     },
     "execution_count": 10,
     "metadata": {},
     "output_type": "execute_result"
    }
   ],
   "source": [
    "df_7.head()"
   ]
  },
  {
   "cell_type": "markdown",
   "metadata": {},
   "source": [
    "These features proved to be revelant, as they diminished the RMSE, especially when these features were summed up into a 3rd feature. In that case the new feature was better characterizing a given aerial line.  "
   ]
  },
  {
   "cell_type": "markdown",
   "metadata": {},
   "source": [
    "## II.b. Count the Number of flights in cities"
   ]
  },
  {
   "cell_type": "markdown",
   "metadata": {},
   "source": [
    "As I stated in the Section I.b., I also computed the number of departures and arrivals in a given city. It improved slightly the results."
   ]
  },
  {
   "cell_type": "code",
   "execution_count": 15,
   "metadata": {
    "collapsed": true
   },
   "outputs": [],
   "source": [
    "def current_month_city_dep(data):\n",
    "    df = data.copy()\n",
    "    df['DateOfDeparture'] = pd.to_datetime(df['DateOfDeparture'])\n",
    "    df['month'] = df['DateOfDeparture'].dt.month.astype(str)\n",
    "    df['year'] = df['DateOfDeparture'].dt.year.astype(str)\n",
    "    df['city_dep'] = city_dep\n",
    "    \n",
    "    df['year_month_dep'] = df[df.columns[[8,6,7]]].apply(lambda x: '-'.join(x),axis=1)\n",
    "    n_month_year_dep = dict(df['city_dep'].groupby(df['year_month_dep']).count())\n",
    "    df['n_year_month_city_dep'] = df['year_month_dep'].map(n_month_year_dep)\n",
    "    del df['year_month_dep']\n",
    "    return df"
   ]
  },
  {
   "cell_type": "code",
   "execution_count": 29,
   "metadata": {
    "collapsed": false
   },
   "outputs": [],
   "source": [
    "df_11 = current_month_city_dep(data)"
   ]
  },
  {
   "cell_type": "code",
   "execution_count": 32,
   "metadata": {
    "collapsed": true
   },
   "outputs": [],
   "source": [
    "def current_month_city_arr(data):\n",
    "    df = data.copy()\n",
    "    df['DateOfDeparture'] = pd.to_datetime(df['DateOfDeparture'])\n",
    "    df['month'] = df['DateOfDeparture'].dt.month.astype(str)\n",
    "    df['year'] = df['DateOfDeparture'].dt.year.astype(str)\n",
    "    df['city_arr'] = city_arr\n",
    "    \n",
    "    df['year_month_arr'] = df[df.columns[[8,6,7]]].apply(lambda x: '-'.join(x),axis=1)\n",
    "    n_month_year_dep = dict(df['city_arr'].groupby(df['year_month_arr']).count())\n",
    "    df['n_year_month_city_arr'] = df['year_month_arr'].map(n_month_year_dep)\n",
    "    del df['year_month_arr']\n",
    "    return df\n"
   ]
  },
  {
   "cell_type": "code",
   "execution_count": 33,
   "metadata": {
    "collapsed": true
   },
   "outputs": [],
   "source": [
    "df_12 = current_month_city_arr(data)"
   ]
  },
  {
   "cell_type": "markdown",
   "metadata": {},
   "source": [
    "## II.c. Graph of airports"
   ]
  },
  {
   "cell_type": "markdown",
   "metadata": {},
   "source": [
    "By creating the above-mentioned features related to the number of departures and arrivals for a given airport, I thought I could improve the model. Indeed, all the flights between airports could be seen as interactions. As a result, I decided to explore this idea by creating of graph : each airport could be seen as node, and each flight (departure-arrival) as an edge. Therefore, for each month, I made a list of all the flights between airports in order to create a graph."
   ]
  },
  {
   "cell_type": "markdown",
   "metadata": {},
   "source": [
    "Then I computed several properties of the nodes of each graph : the degree of centraliy, the betweeness centrality, the load centrality. In addition, I computed the connecitivity between 2 nodes."
   ]
  },
  {
   "cell_type": "code",
   "execution_count": 17,
   "metadata": {
    "collapsed": true
   },
   "outputs": [],
   "source": [
    "import networkx as nx\n",
    "def centrality_month_airports(data):    \n",
    "    df = data.copy()\n",
    "    df['DateOfDeparture'] = pd.to_datetime(df['DateOfDeparture'])\n",
    "    df['month'] = df['DateOfDeparture'].dt.week.astype(str)\n",
    "    df['year'] = df['DateOfDeparture'].dt.year.astype(str)\n",
    "    df['year_month'] = df[df.columns[[6,7]]].apply(lambda x: '-'.join(x),axis=1)\n",
    "    df['year_month_dep'] = df[df.columns[[1,6,7]]].apply(lambda x: '-'.join(x),axis=1)\n",
    "    df['year_month_arr'] = df[df.columns[[2,6,7]]].apply(lambda x: '-'.join(x),axis=1)\n",
    "    year_month = pd.unique(df['year_month'])\n",
    "    G = nx.Graph()\n",
    "    centrality = {}\n",
    "\n",
    "    for i, item in enumerate(year_month):\n",
    "        sub_df = df[df['year_month'] == item][['Departure','Arrival']]\n",
    "        list_dep_arr = zip(sub_df['Departure'], sub_df['Arrival'])\n",
    "        G.add_edges_from(list_dep_arr)\n",
    "        #G.number_of_nodes()\n",
    "        #G.number_of_edges()\n",
    "        centrality_month = nx.degree_centrality(G)\n",
    "        centrality_month = pd.DataFrame(centrality_month.items())\n",
    "        centrality_month['year_month'] = [item] * centrality_month.shape[0]\n",
    "        centrality_month['airport_year_month'] = centrality_month[centrality_month.columns[[0,2]]].apply(lambda x: '-'.join(x),axis=1)\n",
    "        centrality_month =dict(zip(centrality_month['airport_year_month'], centrality_month[1]))\n",
    "\n",
    "        z = centrality.copy()\n",
    "        z.update(centrality_month)\n",
    "        centrality = z\n",
    "    df['centrality_month_dep'] = df['year_month_dep'].map(centrality)\n",
    "    df['centrality_month_arr'] = df['year_month_arr'].map(centrality)\n",
    "    return df"
   ]
  },
  {
   "cell_type": "code",
   "execution_count": 18,
   "metadata": {
    "collapsed": true
   },
   "outputs": [],
   "source": [
    "def centrality_month_cities(data):    \n",
    "    df = data.copy()\n",
    "    df['DateOfDeparture'] = pd.to_datetime(df['DateOfDeparture'])\n",
    "    df['month'] = df['DateOfDeparture'].dt.week.astype(str)\n",
    "    df['year'] = df['DateOfDeparture'].dt.year.astype(str)\n",
    "    df['year_month'] = df[df.columns[[6,7]]].apply(lambda x: '-'.join(x),axis=1)\n",
    "    df['city_dep'] = city_dep\n",
    "    df['city_arr'] = city_arr\n",
    "    \n",
    "    df['year_month_dep'] = df[df.columns[[9,6,7]]].apply(lambda x: '-'.join(x),axis=1)\n",
    "    df['year_month_arr'] = df[df.columns[[10,6,7]]].apply(lambda x: '-'.join(x),axis=1)\n",
    "    year_month = pd.unique(df['year_month'])\n",
    "    G = nx.Graph()\n",
    "    centrality = {}\n",
    "\n",
    "    for i, item in enumerate(year_month):\n",
    "        sub_df = df[df['year_month'] == item][['city_dep','city_arr']]\n",
    "        list_dep_arr = zip(sub_df['city_dep'], sub_df['city_arr'])\n",
    "        G.add_edges_from(list_dep_arr)\n",
    "        #G.number_of_nodes()\n",
    "        #G.number_of_edges()\n",
    "        centrality_month = nx.degree_centrality(G)\n",
    "        centrality_month = pd.DataFrame(centrality_month.items())\n",
    "        centrality_month['year_month'] = [item] * centrality_month.shape[0]\n",
    "        centrality_month['city_year_month'] = centrality_month[centrality_month.columns[[0,2]]].apply(lambda x: '-'.join(x),axis=1)\n",
    "        centrality_month =dict(zip(centrality_month['city_year_month'], centrality_month[1]))\n",
    "\n",
    "        z = centrality.copy()\n",
    "        z.update(centrality_month)\n",
    "        centrality = z\n",
    "    df['centrality_city_dep'] = df['year_month_dep'].map(centrality)\n",
    "    df['centrality_city_arr'] = df['year_month_arr'].map(centrality)\n",
    "    return df\n",
    "    "
   ]
  },
  {
   "cell_type": "code",
   "execution_count": 19,
   "metadata": {
    "collapsed": false
   },
   "outputs": [],
   "source": [
    "df_9 = centrality_month_airports(data)"
   ]
  },
  {
   "cell_type": "code",
   "execution_count": 20,
   "metadata": {
    "collapsed": false
   },
   "outputs": [],
   "source": [
    "df_10 = centrality_month_cities(data)"
   ]
  },
  {
   "cell_type": "code",
   "execution_count": 21,
   "metadata": {
    "collapsed": false
   },
   "outputs": [],
   "source": [
    "def btw_centrality_month_airports(data):    \n",
    "    df = data.copy()\n",
    "    df['DateOfDeparture'] = pd.to_datetime(df['DateOfDeparture'])\n",
    "    df['month'] = df['DateOfDeparture'].dt.week.astype(str)\n",
    "    df['year'] = df['DateOfDeparture'].dt.year.astype(str)\n",
    "    df['year_month'] = df[df.columns[[6,7]]].apply(lambda x: '-'.join(x),axis=1)\n",
    "    df['year_month_dep'] = df[df.columns[[1,6,7]]].apply(lambda x: '-'.join(x),axis=1)\n",
    "    df['year_month_arr'] = df[df.columns[[2,6,7]]].apply(lambda x: '-'.join(x),axis=1)\n",
    "    year_month = pd.unique(df['year_month'])\n",
    "    G = nx.Graph()\n",
    "    btw_centrality = {}\n",
    "\n",
    "    for i, item in enumerate(year_month):\n",
    "        sub_df = df[df['year_month'] == item][['Departure','Arrival']]\n",
    "        list_dep_arr = zip(sub_df['Departure'], sub_df['Arrival'])\n",
    "        G.add_edges_from(list_dep_arr)\n",
    "        #G.number_of_nodes()\n",
    "        #G.number_of_edges()\n",
    "        centrality_month = nx.betweenness_centrality(G)\n",
    "        centrality_month = pd.DataFrame(centrality_month.items())\n",
    "        centrality_month['year_month'] = [item] * centrality_month.shape[0]\n",
    "        centrality_month['airport_year_month'] = centrality_month[centrality_month.columns[[0,2]]].apply(lambda x: '-'.join(x),axis=1)\n",
    "        centrality_month =dict(zip(centrality_month['airport_year_month'], centrality_month[1]))\n",
    "\n",
    "        z = btw_centrality.copy()\n",
    "        z.update(centrality_month)\n",
    "        btw_centrality = z\n",
    "    df['btw_centrality_month_dep'] = df['year_month_dep'].map(btw_centrality)\n",
    "    df['btw_centrality_month_arr'] = df['year_month_arr'].map(btw_centrality)\n",
    "    return df"
   ]
  },
  {
   "cell_type": "code",
   "execution_count": 22,
   "metadata": {
    "collapsed": false
   },
   "outputs": [],
   "source": [
    "df_13 = btw_centrality_month_airports(data)"
   ]
  },
  {
   "cell_type": "code",
   "execution_count": 23,
   "metadata": {
    "collapsed": true
   },
   "outputs": [],
   "source": [
    "def load_centrality_month_airports(data):    \n",
    "    df = data.copy()\n",
    "    df['DateOfDeparture'] = pd.to_datetime(df['DateOfDeparture'])\n",
    "    df['month'] = df['DateOfDeparture'].dt.week.astype(str)\n",
    "    df['year'] = df['DateOfDeparture'].dt.year.astype(str)\n",
    "    df['year_month'] = df[df.columns[[6,7]]].apply(lambda x: '-'.join(x),axis=1)\n",
    "    df['year_month_dep'] = df[df.columns[[1,6,7]]].apply(lambda x: '-'.join(x),axis=1)\n",
    "    df['year_month_arr'] = df[df.columns[[2,6,7]]].apply(lambda x: '-'.join(x),axis=1)\n",
    "    year_month = pd.unique(df['year_month'])\n",
    "    G = nx.Graph()\n",
    "    load_centrality = {}\n",
    "\n",
    "    for i, item in enumerate(year_month):\n",
    "        sub_df = df[df['year_month'] == item][['Departure','Arrival']]\n",
    "        list_dep_arr = zip(sub_df['Departure'], sub_df['Arrival'])\n",
    "        G.add_edges_from(list_dep_arr)\n",
    "        #G.number_of_nodes()\n",
    "        #G.number_of_edges()\n",
    "        centrality_month = nx.load_centrality(G)\n",
    "        centrality_month = pd.DataFrame(centrality_month.items())\n",
    "        centrality_month['year_month'] = [item] * centrality_month.shape[0]\n",
    "        centrality_month['airport_year_month'] = centrality_month[centrality_month.columns[[0,2]]].apply(lambda x: '-'.join(x),axis=1)\n",
    "        centrality_month =dict(zip(centrality_month['airport_year_month'], centrality_month[1]))\n",
    "\n",
    "        z = load_centrality.copy()\n",
    "        z.update(centrality_month)\n",
    "        load_centrality = z\n",
    "    df['load_centrality_month_dep'] = df['year_month_dep'].map(load_centrality)\n",
    "    df['load_centrality_month_arr'] = df['year_month_arr'].map(load_centrality)\n",
    "    return df"
   ]
  },
  {
   "cell_type": "code",
   "execution_count": 24,
   "metadata": {
    "collapsed": false
   },
   "outputs": [],
   "source": [
    "df_14 = load_centrality_month_airports(data)"
   ]
  },
  {
   "cell_type": "code",
   "execution_count": 25,
   "metadata": {
    "collapsed": false,
    "scrolled": false
   },
   "outputs": [],
   "source": [
    "def set_connectivity(data):    \n",
    "    df = data.copy()\n",
    "    df['DateOfDeparture'] = pd.to_datetime(df['DateOfDeparture'])\n",
    "    df['month'] = df['DateOfDeparture'].dt.week.astype(str)\n",
    "    df['year'] = df['DateOfDeparture'].dt.year.astype(str)\n",
    "    df['arr_dep'] = df[df.columns[[1,2]]].apply(lambda x: '-'.join(x),axis=1)\n",
    "\n",
    "    G = nx.Graph()\n",
    "    connectivity = {}\n",
    "\n",
    "    list_dep_arr = zip(df['Departure'], df['Arrival'])\n",
    "    G.add_edges_from(list_dep_arr)\n",
    "    #G.number_of_nodes()\n",
    "    #G.number_of_edges()\n",
    "    connectivity = nx.all_pairs_node_connectivity(G)\n",
    "    for j, jtem in enumerate(connectivity):\n",
    "        if j==0:\n",
    "            a=[jtem]*len(connectivity[jtem])\n",
    "            d = pd.DataFrame(connectivity[jtem].items())\n",
    "            d = pd.concat([pd.DataFrame(a),d], axis=1)\n",
    "            c = d.copy()\n",
    "        a=[jtem]*len(connectivity[jtem])\n",
    "        d = pd.DataFrame(connectivity[jtem].items())\n",
    "        d = pd.concat([pd.DataFrame(a),d], axis=1)\n",
    "        c = c.append(d)\n",
    "    c['arr_dep'] = c[c.columns[[0]]].apply(lambda x: '-'.join(x),axis=1)\n",
    "    connectivity_dep_arr = dict(zip(c['arr_dep'],c[1]))\n",
    "\n",
    "    df['connectivity'] = df['arr_dep'].map(connectivity_dep_arr)\n",
    "    return df\n"
   ]
  },
  {
   "cell_type": "code",
   "execution_count": 26,
   "metadata": {
    "collapsed": false
   },
   "outputs": [],
   "source": [
    "df_15 = set_connectivity(data)"
   ]
  },
  {
   "cell_type": "code",
   "execution_count": 146,
   "metadata": {
    "collapsed": false
   },
   "outputs": [],
   "source": [
    "df = data.copy()\n",
    "df['DateOfDeparture'] = pd.to_datetime(df['DateOfDeparture'])\n",
    "df['month'] = df['DateOfDeparture'].dt.week.astype(str)\n",
    "df['year'] = df['DateOfDeparture'].dt.year.astype(str)\n",
    "df['arr_dep'] = df[df.columns[[1,2]]].apply(lambda x: '-'.join(x),axis=1)\n",
    "\n",
    "G = nx.Graph()\n",
    "connectivity = {}\n",
    "\n",
    "list_dep_arr = zip(df['Departure'], df['Arrival'])\n",
    "G.add_edges_from(list_dep_arr)\n",
    "#G.number_of_nodes()\n",
    "#G.number_of_edges()\n",
    "connectivity = nx.shortest_path_length(G)"
   ]
  },
  {
   "cell_type": "markdown",
   "metadata": {},
   "source": [
    "These features proved to be relevant, because they slightly decreased the RMSE."
   ]
  },
  {
   "cell_type": "markdown",
   "metadata": {
    "collapsed": false
   },
   "source": [
    "## II.d. Conclusion of the preprocessing"
   ]
  },
  {
   "cell_type": "code",
   "execution_count": 34,
   "metadata": {
    "collapsed": true
   },
   "outputs": [],
   "source": [
    "data_encoded = data.copy()"
   ]
  },
  {
   "cell_type": "code",
   "execution_count": 35,
   "metadata": {
    "collapsed": false
   },
   "outputs": [],
   "source": [
    "data_encoded['Affluence_Dep_2011'] = data['Departure'].map(affluence_2011)\n",
    "data_encoded['Affluence_Arr_2011'] = data['Arrival'].map(affluence_2011)\n",
    "data_encoded['Affluence_Score_2011'] = data_encoded['Affluence_Arr_2011'] + data_encoded['Affluence_Dep_2011']\n",
    "\n",
    "data_encoded['Affluence_Dep_2013'] = data['Departure'].map(affluence_2013)\n",
    "data_encoded['Affluence_Arr_2013'] = data['Arrival'].map(affluence_2013)\n",
    "data_encoded['Affluence_Score_2013'] = data_encoded['Affluence_Arr_2013'] + data_encoded['Affluence_Dep_2013']\n",
    "\n",
    "data_encoded = data_encoded.drop('Affluence_Dep_2011', axis=1)\n",
    "data_encoded = data_encoded.drop('Affluence_Arr_2011', axis=1)\n",
    "\n",
    "data_encoded = data_encoded.drop('Affluence_Dep_2013', axis=1)\n",
    "data_encoded = data_encoded.drop('Affluence_Arr_2013', axis=1)\n",
    "\n",
    "\n",
    "data_encoded['DateOfDeparture'] = pd.to_datetime(data_encoded['DateOfDeparture'])\n",
    "data_encoded['year'] = data_encoded['DateOfDeparture'].dt.year\n",
    "data_encoded['month'] = data_encoded['DateOfDeparture'].dt.month\n",
    "data_encoded['day'] = data_encoded['DateOfDeparture'].dt.day\n",
    "data_encoded['weekday'] = data_encoded['DateOfDeparture'].dt.weekday\n",
    "data_encoded['week'] = data_encoded['DateOfDeparture'].dt.week\n",
    "data_encoded['n_days'] = data_encoded['DateOfDeparture'].apply(lambda date: (date - pd.to_datetime(\"1970-01-01\")).days)\n",
    "\n",
    "data_encoded = data_encoded.join(pd.get_dummies(data_encoded['year'], prefix='y'))\n",
    "data_encoded = data_encoded.join(pd.get_dummies(data_encoded['month'], prefix='m'))\n",
    "data_encoded = data_encoded.join(pd.get_dummies(data_encoded['day'], prefix='d'))\n",
    "data_encoded = data_encoded.join(pd.get_dummies(data_encoded['weekday'], prefix='wd'))\n",
    "data_encoded = data_encoded.join(pd.get_dummies(data_encoded['week'], prefix='w'))\n",
    "\n",
    "\n",
    "data_encoded['distance_airport'] = distance\n",
    "\n",
    "data_encoded = data_encoded.join(df_11['n_year_month_city_dep'])\n",
    "data_encoded = data_encoded.join(df_12['n_year_month_city_arr'])\n",
    "\n",
    "data_encoded['n_year_month_dep_arr_city_sum'] = data_encoded['n_year_month_city_dep'] + data_encoded['n_year_month_city_arr']\n",
    "data_encoded = data_encoded.drop('n_year_month_city_dep', axis=1)\n",
    "data_encoded = data_encoded.drop('n_year_month_city_arr', axis=1)\n",
    "\n",
    "\n",
    "data_encoded = pd.concat([data_encoded, df_9[['centrality_month_dep','centrality_month_arr']]], axis = 1)\n",
    "data_encoded['centrality_sum'] = data_encoded['centrality_month_arr'] + data_encoded['centrality_month_dep']\n",
    "data_encoded['centrality_product'] = data_encoded['centrality_month_arr']*data_encoded['centrality_month_dep']\n",
    "\n",
    "\n",
    "data_encoded = pd.concat([data_encoded, df_10[['centrality_city_dep','centrality_city_arr']]], axis = 1)\n",
    "data_encoded['centrality_city_sum'] = data_encoded['centrality_city_arr'] + data_encoded['centrality_city_dep']\n",
    "data_encoded['centrality_city_product'] = data_encoded['centrality_city_arr']*data_encoded['centrality_city_dep']\n",
    "\n",
    "data_encoded = data_encoded.drop('centrality_city_dep', axis = 1)\n",
    "data_encoded = data_encoded.drop('centrality_city_arr', axis = 1)\n",
    "\n",
    "\n",
    "data_encoded = pd.concat([data_encoded, df_13[['btw_centrality_month_dep','btw_centrality_month_arr']]], axis = 1)\n",
    "data_encoded['btw_centrality_diff'] = data_encoded['btw_centrality_month_arr'] - data_encoded['btw_centrality_month_dep']\n",
    "\n",
    "                          \n",
    "data_encoded = pd.concat([data_encoded, df_14[['load_centrality_month_arr','load_centrality_month_dep']]], axis = 1)\n",
    "data_encoded['load_centrality_sum'] = data_encoded['load_centrality_month_arr'] + data_encoded['load_centrality_month_dep']\n",
    "data_encoded['load_centrality_product'] = data_encoded['load_centrality_month_arr']*data_encoded['load_centrality_month_dep']\n",
    "\n",
    "\n",
    "data_encoded = pd.concat([data_encoded, df_15['connectivity']], axis = 1)\n",
    "\n",
    "data_encoded = data_encoded.join(pd.get_dummies(data_encoded['Departure'], prefix='d'))\n",
    "data_encoded = data_encoded.join(pd.get_dummies(data_encoded['Arrival'], prefix='a'))\n",
    "data_encoded = data_encoded.drop('Departure', axis=1)\n",
    "data_encoded = data_encoded.drop('Arrival', axis=1)"
   ]
  },
  {
   "cell_type": "code",
   "execution_count": 105,
   "metadata": {
    "collapsed": false
   },
   "outputs": [
    {
     "data": {
      "text/plain": [
       "(11128, 162)"
      ]
     },
     "execution_count": 105,
     "metadata": {},
     "output_type": "execute_result"
    }
   ],
   "source": [
    "data_encoded.shape"
   ]
  },
  {
   "cell_type": "markdown",
   "metadata": {},
   "source": [
    "# III. Regressors"
   ]
  },
  {
   "cell_type": "markdown",
   "metadata": {},
   "source": [
    "I tried a few different regressors : LinearRegression, RandomForest, ExtraTrees, AdaBoost and finally GradientBoosting. Eventually, I had the best results with GradientBoosting so I decide to keep it."
   ]
  },
  {
   "cell_type": "markdown",
   "metadata": {},
   "source": [
    "I chose to treat the data with models related to regressions trees, because they need fewer data processing than the other models. One of the greatest advantages is that there are ensemble models, so their predictions are often more accurate since they combine the results of several predictors. In addition, it is possible to observe the feature importance. P"
   ]
  },
  {
   "cell_type": "code",
   "execution_count": 36,
   "metadata": {
    "collapsed": false
   },
   "outputs": [],
   "source": [
    "features = data_encoded.drop(['log_PAX','DateOfDeparture'], axis=1)\n",
    "X_columns = data_encoded.columns.drop(['log_PAX','DateOfDeparture'])\n",
    "X = features.values\n",
    "y = data_encoded['log_PAX'].values"
   ]
  },
  {
   "cell_type": "code",
   "execution_count": 37,
   "metadata": {
    "collapsed": false,
    "scrolled": true
   },
   "outputs": [
    {
     "data": {
      "text/plain": [
       "array(['WeeksToDeparture', 'std_wtd', 'Affluence_Score_2011',\n",
       "       'Affluence_Score_2013', 'year', 'month', 'day', 'weekday', 'week',\n",
       "       'n_days', 'y_2011', 'y_2012', 'y_2013', 'm_1', 'm_2', 'm_3', 'm_4',\n",
       "       'm_5', 'm_6', 'm_7', 'm_8', 'm_9', 'm_10', 'm_11', 'm_12', 'd_1',\n",
       "       'd_2', 'd_3', 'd_4', 'd_5', 'd_6', 'd_7', 'd_8', 'd_9', 'd_10',\n",
       "       'd_11', 'd_12', 'd_13', 'd_14', 'd_15', 'd_16', 'd_17', 'd_18',\n",
       "       'd_19', 'd_20', 'd_21', 'd_22', 'd_23', 'd_24', 'd_25', 'd_26',\n",
       "       'd_27', 'd_28', 'd_29', 'd_30', 'd_31', 'wd_0', 'wd_1', 'wd_2',\n",
       "       'wd_3', 'wd_4', 'wd_5', 'wd_6', 'w_1', 'w_2', 'w_3', 'w_4', 'w_5',\n",
       "       'w_6', 'w_7', 'w_8', 'w_9', 'w_10', 'w_11', 'w_12', 'w_13', 'w_14',\n",
       "       'w_15', 'w_16', 'w_17', 'w_18', 'w_19', 'w_20', 'w_21', 'w_22',\n",
       "       'w_23', 'w_24', 'w_25', 'w_26', 'w_27', 'w_28', 'w_29', 'w_30',\n",
       "       'w_31', 'w_32', 'w_33', 'w_34', 'w_35', 'w_36', 'w_37', 'w_38',\n",
       "       'w_39', 'w_40', 'w_41', 'w_42', 'w_43', 'w_44', 'w_45', 'w_46',\n",
       "       'w_47', 'w_48', 'w_49', 'w_50', 'w_51', 'w_52', 'distance_airport',\n",
       "       'n_year_month_dep_arr_city_sum', 'centrality_month_dep',\n",
       "       'centrality_month_arr', 'centrality_sum', 'centrality_product',\n",
       "       'centrality_city_sum', 'centrality_city_product',\n",
       "       'btw_centrality_month_dep', 'btw_centrality_month_arr',\n",
       "       'btw_centrality_diff', 'load_centrality_month_arr',\n",
       "       'load_centrality_month_dep', 'load_centrality_sum',\n",
       "       'load_centrality_product', 'connectivity', 'd_ATL', 'd_BOS',\n",
       "       'd_CLT', 'd_DEN', 'd_DFW', 'd_DTW', 'd_EWR', 'd_IAH', 'd_JFK',\n",
       "       'd_LAS', 'd_LAX', 'd_LGA', 'd_MCO', 'd_MIA', 'd_MSP', 'd_ORD',\n",
       "       'd_PHL', 'd_PHX', 'd_SEA', 'd_SFO', 'a_ATL', 'a_BOS', 'a_CLT',\n",
       "       'a_DEN', 'a_DFW', 'a_DTW', 'a_EWR', 'a_IAH', 'a_JFK', 'a_LAS',\n",
       "       'a_LAX', 'a_LGA', 'a_MCO', 'a_MIA', 'a_MSP', 'a_ORD', 'a_PHL',\n",
       "       'a_PHX', 'a_SEA', 'a_SFO'], dtype=object)"
      ]
     },
     "execution_count": 37,
     "metadata": {},
     "output_type": "execute_result"
    }
   ],
   "source": [
    "### return index of d_airport\n",
    "features.columns.values"
   ]
  },
  {
   "cell_type": "code",
   "execution_count": 38,
   "metadata": {
    "collapsed": false
   },
   "outputs": [],
   "source": [
    "from sklearn.cross_validation import train_test_split\n",
    "\n",
    "X_train, X_test, y_train, y_test = train_test_split(\n",
    "    X, y, test_size=0.2, random_state=10)"
   ]
  },
  {
   "cell_type": "code",
   "execution_count": 39,
   "metadata": {
    "collapsed": false
   },
   "outputs": [
    {
     "name": "stderr",
     "output_type": "stream",
     "text": [
      "C:\\Users\\Guillaume\\Anaconda2\\lib\\site-packages\\sklearn\\cross_validation.py:516: Warning: The least populated class in y has only 1 members, which is too few. The minimum number of labels for any class cannot be less than n_folds=5.\n",
      "  % (min_labels, self.n_folds)), Warning)\n"
     ]
    }
   ],
   "source": [
    "from sklearn.cross_validation import StratifiedKFold\n",
    "skf = StratifiedKFold(y_train, n_folds=5, shuffle = True, random_state=41)"
   ]
  },
  {
   "cell_type": "markdown",
   "metadata": {},
   "source": [
    "## III.a. LinearRegression"
   ]
  },
  {
   "cell_type": "markdown",
   "metadata": {},
   "source": [
    "First of all, I implemented a Linear Regression model in order to have an overview of the different coefficients I could have with. "
   ]
  },
  {
   "cell_type": "code",
   "execution_count": 40,
   "metadata": {
    "collapsed": false
   },
   "outputs": [
    {
     "name": "stdout",
     "output_type": "stream",
     "text": [
      "log RMSE: 0.5827 +/-0.0194\n"
     ]
    }
   ],
   "source": [
    "from sklearn.linear_model import LinearRegression\n",
    "from sklearn.cross_validation import cross_val_score\n",
    "\n",
    "reg = LinearRegression()\n",
    "\n",
    "scores = cross_val_score(reg, X_train, y_train, cv=skf, scoring='mean_squared_error')\n",
    "print(\"log RMSE: {:.4f} +/-{:.4f}\".format(\n",
    "    np.mean(np.sqrt(-scores)), np.std(np.sqrt(-scores))))"
   ]
  },
  {
   "cell_type": "markdown",
   "metadata": {},
   "source": [
    "When I visualized the coefficients, I noticed that the LinearRegression model couldn't capture all the information. For example, I plotted the coefficients related to the years :"
   ]
  },
  {
   "cell_type": "code",
   "execution_count": 11,
   "metadata": {
    "collapsed": false,
    "scrolled": true
   },
   "outputs": [
    {
     "data": {
      "image/png": "[encoded data removed]",
      "text/plain": [
       "<IPython.core.display.Image object>"
      ]
     },
     "execution_count": 11,
     "metadata": {},
     "output_type": "execute_result"
    }
   ],
   "source": [
    "Image(\"year.png\")"
   ]
  },
  {
   "cell_type": "markdown",
   "metadata": {},
   "source": [
    "One can see that 2011 and 2013 seem to have a great influence on log_PAX. However, this is due to the sample distribution : there are more data in 2012 than for the other years."
   ]
  },
  {
   "cell_type": "code",
   "execution_count": 10,
   "metadata": {
    "collapsed": false
   },
   "outputs": [
    {
     "data": {
      "image/png": "[encoded data removed]",
      "text/plain": [
       "<IPython.core.display.Image object>"
      ]
     },
     "execution_count": 10,
     "metadata": {},
     "output_type": "execute_result"
    }
   ],
   "source": [
    "Image(\"Date of departure year.png\")"
   ]
  },
  {
   "cell_type": "markdown",
   "metadata": {},
   "source": [
    "## III.b. Random Forests"
   ]
  },
  {
   "cell_type": "code",
   "execution_count": 34,
   "metadata": {
    "collapsed": false
   },
   "outputs": [
    {
     "name": "stdout",
     "output_type": "stream",
     "text": [
      "Wall time: 203 ms\n"
     ]
    }
   ],
   "source": [
    "%%time\n",
    "from sklearn.ensemble import RandomForestRegressor"
   ]
  },
  {
   "cell_type": "markdown",
   "metadata": {},
   "source": [
    "## III.c. ExtraTrees"
   ]
  },
  {
   "cell_type": "code",
   "execution_count": 161,
   "metadata": {
    "collapsed": true
   },
   "outputs": [],
   "source": [
    "from sklearn.ensemble import ExtraTreesRegressor"
   ]
  },
  {
   "cell_type": "code",
   "execution_count": 162,
   "metadata": {
    "collapsed": false
   },
   "outputs": [
    {
     "name": "stdout",
     "output_type": "stream",
     "text": [
      "log RMSE: 0.3950 +/-0.0239\n",
      "Wall time: 2min 4s\n"
     ]
    }
   ],
   "source": [
    "%%time\n",
    "n_estimators = 600\n",
    "max_features = 90\n",
    "min_samples_split = 10\n",
    "bootstrap = True\n",
    "\n",
    "reg = ExtraTreesRegressor(n_estimators=n_estimators,\n",
    "                            max_features=max_features,\n",
    "                            min_samples_split = min_samples_split,\n",
    "                            n_jobs=3,\n",
    "                            random_state=10)\n",
    "\n",
    "scores = cross_val_score(reg, X_train, y_train, cv=skf, scoring='mean_squared_error',n_jobs=3)\n",
    "print(\"log RMSE: {:.4f} +/-{:.4f}\".format(\n",
    "    np.mean(np.sqrt(-scores)), np.std(np.sqrt(-scores))))"
   ]
  },
  {
   "cell_type": "markdown",
   "metadata": {},
   "source": [
    "## III.d. Gradient Boosting"
   ]
  },
  {
   "cell_type": "markdown",
   "metadata": {},
   "source": [
    "I got the best results with this configuration of GradientBoosting."
   ]
  },
  {
   "cell_type": "code",
   "execution_count": 41,
   "metadata": {
    "collapsed": true
   },
   "outputs": [],
   "source": [
    "from sklearn.ensemble import GradientBoostingRegressor"
   ]
  },
  {
   "cell_type": "code",
   "execution_count": 45,
   "metadata": {
    "collapsed": false,
    "scrolled": true
   },
   "outputs": [
    {
     "name": "stdout",
     "output_type": "stream",
     "text": [
      "log RMSE: 0.3604 +/-0.0179\n"
     ]
    }
   ],
   "source": [
    "loss='ls'\n",
    "learning_rate=0.2\n",
    "n_estimators=2000\n",
    "subsample=1.0\n",
    "min_samples_leaf=1\n",
    "min_weight_fraction_leaf=0.0\n",
    "#max_depth=8\n",
    "min_samples_split= 10\n",
    "random_state=None\n",
    "max_features=100\n",
    "max_leaf_nodes=None\n",
    "warm_start=False\n",
    "presort='auto'\n",
    "\n",
    "reg = GradientBoostingRegressor(loss= loss,\n",
    "                                learning_rate= learning_rate,\n",
    "                                n_estimators= n_estimators,\n",
    "                                subsample=1.0,\n",
    "                                #max_depth = max_depth,\n",
    "                                min_samples_split= min_samples_split,\n",
    "                                max_features = max_features,\n",
    "                                random_state=10,\n",
    "                                alpha=0.5)\n",
    "\n",
    "scores = cross_val_score(reg, X_train, y_train, cv=skf, scoring='mean_squared_error',n_jobs=3)\n",
    "print(\"log RMSE: {:.4f} +/-{:.4f}\".format(\n",
    "    np.mean(np.sqrt(-scores)), np.std(np.sqrt(-scores))))"
   ]
  },
  {
   "cell_type": "code",
   "execution_count": 44,
   "metadata": {
    "collapsed": false
   },
   "outputs": [
    {
     "ename": "ImportError",
     "evalue": "No module named xgboost",
     "output_type": "error",
     "traceback": [
      "\u001b[1;31m---------------------------------------------------------------------------\u001b[0m",
      "\u001b[1;31mImportError\u001b[0m                               Traceback (most recent call last)",
      "\u001b[1;32m<ipython-input-44-745aa3a2d734>\u001b[0m in \u001b[0;36m<module>\u001b[1;34m()\u001b[0m\n\u001b[1;32m----> 1\u001b[1;33m \u001b[1;32mimport\u001b[0m \u001b[0mxgboost\u001b[0m \u001b[1;32mas\u001b[0m \u001b[0mxgb\u001b[0m\u001b[1;33m\u001b[0m\u001b[0m\n\u001b[0m",
      "\u001b[1;31mImportError\u001b[0m: No module named xgboost"
     ]
    }
   ],
   "source": [
    "import xgboost as xgb"
   ]
  },
  {
   "cell_type": "code",
   "execution_count": null,
   "metadata": {
    "collapsed": true
   },
   "outputs": [],
   "source": [
    "reg = xgb.XGBRegressor(n_estimators=2000,max_depth=8)\n",
    "\n",
    "scores = cross_val_score(reg, X_train, y_train, cv=skf, scoring='mean_squared_error',n_jobs=3)\n",
    "print(\"log RMSE: {:.4f} +/-{:.4f}\".format(\n",
    "    np.mean(np.sqrt(-scores)), np.std(np.sqrt(-scores))))"
   ]
  },
  {
   "cell_type": "markdown",
   "metadata": {},
   "source": [
    "# CONCLUSION"
   ]
  },
  {
   "cell_type": "markdown",
   "metadata": {
    "collapsed": true
   },
   "source": [
    "I did a great improvement regarding my RMSE during the data camp : I started with RMSE = 0.64 with the LinearRegression model, and finally finished with RMSE = 0.3580 (cross-validation) with the GradientBoosting model."
   ]
  },
  {
   "cell_type": "markdown",
   "metadata": {},
   "source": [
    "I noticed that the importance of the features are very dependent on the machine learning model we use. Therefore, I spent most of time thinking about feature engineering, more than combining regressors between them."
   ]
  },
  {
   "cell_type": "markdown",
   "metadata": {},
   "source": [
    "What I could have done if I had more time :\n",
    "1. Data Visualization : I didn't use it completely. It could have given more ideas about feature engineering. Plus, I should have visualized the graphs that I did !\n",
    "2. Feature Selection : given the small number of features, I didn't use any package of feature selection. I should have tried SelecKBest with f-regression as a criterion, in order to see what was the best subgroup of features.\n",
    "3. Machine Learning model : I wanted to try a Neural Network since I read some papers related to air passengers in which NN were used. Unfortunately, I had no time.\n",
    "4. Clustering : I didn't do it. I think it may have helped me to identify the different types of flights (e.g. flights related to work, to holidays, etc.)"
   ]
  },
  {
   "cell_type": "code",
   "execution_count": null,
   "metadata": {
    "collapsed": true
   },
   "outputs": [],
   "source": []
  }
 ],
 "metadata": {
  "kernelspec": {
   "display_name": "Python 2",
   "language": "python",
   "name": "python2"
  },
  "language_info": {
   "codemirror_mode": {
    "name": "ipython",
    "version": 2
   },
   "file_extension": ".py",
   "mimetype": "text/x-python",
   "name": "python",
   "nbconvert_exporter": "python",
   "pygments_lexer": "ipython2",
   "version": "2.7.11"
  }
 },
 "nbformat": 4,
 "nbformat_minor": 0
}
